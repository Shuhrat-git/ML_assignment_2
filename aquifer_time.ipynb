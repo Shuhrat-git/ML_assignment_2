{
 "cells": [
  {
   "cell_type": "markdown",
   "id": "5a437b63",
   "metadata": {},
   "source": [
    "[![Open In Colab](https://colab.research.google.com/assets/colab-badge.svg)](https://colab.research.google.com/github/https://github.com/Shuhrat-git/ML_assignment_2.git/blob/main/aquifer_time.ipynb)\n"
   ]
  },
  {
   "cell_type": "markdown",
   "id": "3f92e021",
   "metadata": {},
   "source": [
    "1. Data loading"
   ]
  },
  {
   "cell_type": "code",
   "execution_count": 14,
   "id": "c3f5cc89",
   "metadata": {},
   "outputs": [
    {
     "name": "stdout",
     "output_type": "stream",
     "text": [
      "        date  rainfall_mm  depth_to_groundwater_m  temperature_C  drainage_m3  \\\n",
      "0 2006-03-14          NaN                  -22.18            NaN          NaN   \n",
      "1 2006-03-15          NaN                  -22.14            NaN          NaN   \n",
      "2 2006-03-16          NaN                  -22.04            NaN          NaN   \n",
      "3 2006-03-17          NaN                  -22.04            NaN          NaN   \n",
      "4 2006-03-18          NaN                  -22.04            NaN          NaN   \n",
      "\n",
      "   river_hydrometry_m  \n",
      "0                 NaN  \n",
      "1                 NaN  \n",
      "2                 NaN  \n",
      "3                 NaN  \n",
      "4                 NaN  \n",
      "<class 'pandas.core.frame.DataFrame'>\n",
      "RangeIndex: 5223 entries, 0 to 5222\n",
      "Data columns (total 6 columns):\n",
      " #   Column                  Non-Null Count  Dtype         \n",
      "---  ------                  --------------  -----         \n",
      " 0   date                    5223 non-null   datetime64[ns]\n",
      " 1   rainfall_mm             4199 non-null   float64       \n",
      " 2   depth_to_groundwater_m  5184 non-null   float64       \n",
      " 3   temperature_C           4199 non-null   float64       \n",
      " 4   drainage_m3             5025 non-null   float64       \n",
      " 5   river_hydrometry_m      4199 non-null   float64       \n",
      "dtypes: datetime64[ns](1), float64(5)\n",
      "memory usage: 245.0 KB\n",
      "None\n",
      "date                         0\n",
      "rainfall_mm               1024\n",
      "depth_to_groundwater_m      39\n",
      "temperature_C             1024\n",
      "drainage_m3                198\n",
      "river_hydrometry_m        1024\n",
      "dtype: int64\n"
     ]
    }
   ],
   "source": [
    "import pandas as pd\n",
    "from sklearn.model_selection import GroupKFold, cross_val_score\n",
    "from sklearn.ensemble import RandomForestRegressor\n",
    "import numpy as np\n",
    "from sklearn.metrics import r2_score, mean_squared_error\n",
    "import matplotlib.pyplot as plt\n",
    "\n",
    "# Load the dataset from the URL\n",
    "url = \"https://raw.githubusercontent.com/isa-ulisboa/greends-pml/main/data/aquifer_time_series.csv\"\n",
    "df = pd.read_csv(url, dayfirst=True, parse_dates=['date'])\n",
    "\n",
    "# Display the first few rows to inspect the data, the overall structure and missing values\n",
    "print(df.head())\n",
    "print(df.info())\n",
    "print(df.isnull().sum())"
   ]
  },
  {
   "cell_type": "markdown",
   "id": "7a5b4195",
   "metadata": {},
   "source": [
    "2. Interpolation of missing values"
   ]
  },
  {
   "cell_type": "code",
   "execution_count": 15,
   "id": "401ccad1",
   "metadata": {},
   "outputs": [
    {
     "name": "stdout",
     "output_type": "stream",
     "text": [
      "date                         0\n",
      "rainfall_mm               1024\n",
      "depth_to_groundwater_m       0\n",
      "temperature_C             1024\n",
      "drainage_m3                197\n",
      "river_hydrometry_m        1024\n",
      "dtype: int64\n"
     ]
    }
   ],
   "source": [
    "# Set 'date' as index to prepare for time-based interpolation\n",
    "df.set_index('date', inplace=True)\n",
    "\n",
    "# Perform time-based interpolation to fill missing values\n",
    "df.interpolate(method='time', inplace=True)\n",
    "\n",
    "# Reset the index to bring 'date' back as a column\n",
    "df.reset_index(inplace=True)\n",
    "\n",
    "# Check again for any missing values\n",
    "print(df.isnull().sum())\n"
   ]
  },
  {
   "cell_type": "markdown",
   "id": "9bb4e022",
   "metadata": {},
   "source": [
    "3. Aggregation by month"
   ]
  },
  {
   "cell_type": "code",
   "execution_count": 16,
   "id": "6dd2bbc1",
   "metadata": {},
   "outputs": [
    {
     "name": "stdout",
     "output_type": "stream",
     "text": [
      "  year_month                date  rainfall_mm  depth_to_groundwater_m  \\\n",
      "0 2006-03-01 2006-03-22 12:00:00          NaN                 -21.890   \n",
      "1 2006-04-01 2006-04-15 12:00:00          NaN                 -21.585   \n",
      "2 2006-05-01 2006-05-16 00:00:00          NaN                 -21.610   \n",
      "3 2006-06-01 2006-06-15 12:00:00          NaN                 -22.080   \n",
      "4 2006-07-01 2006-07-16 00:00:00          NaN                 -23.430   \n",
      "\n",
      "   temperature_C  drainage_m3  river_hydrometry_m  \n",
      "0            NaN          NaN                 NaN  \n",
      "1            NaN          NaN                 NaN  \n",
      "2            NaN          NaN                 NaN  \n",
      "3            NaN          NaN                 NaN  \n",
      "4            NaN          NaN                 NaN  \n"
     ]
    }
   ],
   "source": [
    "# Create a new column representing the year and month\n",
    "df['year_month'] = df['date'].dt.to_period('M')\n",
    "\n",
    "# Aggregate the data by month using the median\n",
    "monthly_df = df.groupby('year_month').median().reset_index()\n",
    "\n",
    "# Convert 'year_month' back to timestamp for easier handling\n",
    "monthly_df['year_month'] = monthly_df['year_month'].dt.to_timestamp()\n",
    "\n",
    "# Display the first few rows of the monthly aggregated data\n",
    "print(monthly_df.head())"
   ]
  },
  {
   "cell_type": "markdown",
   "id": "5700f796",
   "metadata": {},
   "source": [
    "4. Creating lagging features"
   ]
  },
  {
   "cell_type": "code",
   "execution_count": 17,
   "id": "d214efa7",
   "metadata": {},
   "outputs": [],
   "source": [
    "def create_lag_features(df, target_col, lags=12):\n",
    "    \"\"\"\n",
    "    Create lagged features for each attribute except the target variable.\n",
    "    Target will be the current month's target value.\n",
    "    \"\"\"\n",
    "    df_lagged = df.copy()\n",
    "    feature_cols = df.columns.drop(['year_month', target_col])\n",
    "    \n",
    "    for col in feature_cols:\n",
    "        for lag in range(0, lags + 1):\n",
    "            df_lagged[f'{col}_lag{lag}'] = df_lagged[col].shift(lag)\n",
    "    \n",
    "    # Set the target variable\n",
    "    df_lagged['target'] = df_lagged[target_col]\n",
    "    \n",
    "    # Drop rows with missing values caused by shifting\n",
    "    df_lagged = df_lagged.dropna().reset_index(drop=True)\n",
    "    \n",
    "    return df_lagged\n"
   ]
  },
  {
   "cell_type": "code",
   "execution_count": 18,
   "id": "90a0c104",
   "metadata": {},
   "outputs": [
    {
     "name": "stdout",
     "output_type": "stream",
     "text": [
      "  year_month                date  rainfall_mm  depth_to_groundwater_m  \\\n",
      "0 2010-01-01 2010-01-16 00:00:00          0.0                 -28.900   \n",
      "1 2010-02-01 2010-02-14 12:00:00          0.0                 -28.245   \n",
      "2 2010-03-01 2010-03-16 00:00:00          0.0                 -27.270   \n",
      "3 2010-04-01 2010-04-15 12:00:00          0.0                 -26.155   \n",
      "4 2010-05-01 2010-05-16 00:00:00          0.0                 -25.530   \n",
      "\n",
      "   temperature_C  drainage_m3  river_hydrometry_m           date_lag0  \\\n",
      "0           3.70   -27298.944                 2.6 2010-01-16 00:00:00   \n",
      "1           6.45   -28416.960                 2.7 2010-02-14 12:00:00   \n",
      "2           8.50   -29649.888                 2.6 2010-03-16 00:00:00   \n",
      "3          12.20   -29194.560                 2.4 2010-04-15 12:00:00   \n",
      "4          16.30   -28631.232                 2.4 2010-05-16 00:00:00   \n",
      "\n",
      "            date_lag1           date_lag2  ... river_hydrometry_m_lag4  \\\n",
      "0 2009-12-16 00:00:00 2009-11-15 12:00:00  ...                     2.0   \n",
      "1 2010-01-16 00:00:00 2009-12-16 00:00:00  ...                     1.9   \n",
      "2 2010-02-14 12:00:00 2010-01-16 00:00:00  ...                     2.0   \n",
      "3 2010-03-16 00:00:00 2010-02-14 12:00:00  ...                     2.3   \n",
      "4 2010-04-15 12:00:00 2010-03-16 00:00:00  ...                     2.6   \n",
      "\n",
      "  river_hydrometry_m_lag5 river_hydrometry_m_lag6 river_hydrometry_m_lag7  \\\n",
      "0                     2.0                     2.0                     2.1   \n",
      "1                     2.0                     2.0                     2.0   \n",
      "2                     1.9                     2.0                     2.0   \n",
      "3                     2.0                     1.9                     2.0   \n",
      "4                     2.3                     2.0                     1.9   \n",
      "\n",
      "  river_hydrometry_m_lag8 river_hydrometry_m_lag9 river_hydrometry_m_lag10  \\\n",
      "0                     2.1                     2.4                      2.5   \n",
      "1                     2.1                     2.1                      2.4   \n",
      "2                     2.0                     2.1                      2.1   \n",
      "3                     2.0                     2.0                      2.1   \n",
      "4                     2.0                     2.0                      2.0   \n",
      "\n",
      "  river_hydrometry_m_lag11 river_hydrometry_m_lag12  target  \n",
      "0                      2.5                      2.3 -28.900  \n",
      "1                      2.5                      2.5 -28.245  \n",
      "2                      2.4                      2.5 -27.270  \n",
      "3                      2.1                      2.4 -26.155  \n",
      "4                      2.1                      2.1 -25.530  \n",
      "\n",
      "[5 rows x 73 columns]\n",
      "(126, 73)\n"
     ]
    }
   ],
   "source": [
    "# Apply the function to create the lagged dataset\n",
    "dataset = create_lag_features(monthly_df, target_col='depth_to_groundwater_m', lags=12)\n",
    "\n",
    "# Display the first few rows\n",
    "print(dataset.head())\n",
    "print(dataset.shape)"
   ]
  },
  {
   "cell_type": "markdown",
   "id": "4d39194b",
   "metadata": {},
   "source": [
    "5. Feature preparation and model training"
   ]
  },
  {
   "cell_type": "code",
   "execution_count": 19,
   "id": "f1cb9ffd",
   "metadata": {},
   "outputs": [
    {
     "name": "stdout",
     "output_type": "stream",
     "text": [
      "R2 scores for each fold: [0.94215491 0.98891587 0.56962428 0.95753307 0.94444056]\n",
      "Mean R2 score: 0.8805\n"
     ]
    }
   ],
   "source": [
    "# Prepare features and target\n",
    "X = dataset.drop(columns=['year_month', 'target'])\n",
    "\n",
    "# Select only numeric columns (drop datetime columns accidentally shifted)\n",
    "X = X.select_dtypes(include=[np.number])\n",
    "\n",
    "y = dataset['target']\n",
    "\n",
    "# Create groups based on the year\n",
    "groups = dataset['year_month'].dt.year\n",
    "\n",
    "# Initialize the Random Forest model\n",
    "model = RandomForestRegressor(n_estimators=100, random_state=42)\n",
    "\n",
    "# Setup GroupKFold\n",
    "gkf = GroupKFold(n_splits=5)\n",
    "\n",
    "# Perform cross-validation\n",
    "scores = cross_val_score(model, X, y, cv=gkf, groups=groups, scoring='r2')\n",
    "\n",
    "# Print cross-validation scores\n",
    "print(f\"R2 scores for each fold: {scores}\")\n",
    "print(f\"Mean R2 score: {np.mean(scores):.4f}\")\n",
    "\n"
   ]
  },
  {
   "cell_type": "markdown",
   "id": "54144bfa",
   "metadata": {},
   "source": [
    "6. Final model and plotting"
   ]
  },
  {
   "cell_type": "code",
   "execution_count": 20,
   "id": "3cea0a92",
   "metadata": {},
   "outputs": [
    {
     "name": "stdout",
     "output_type": "stream",
     "text": [
      "Final R2 on full data: 0.9981\n",
      "RMSE on full data: 0.1237\n"
     ]
    },
    {
     "data": {
      "image/png": "[encoded data removed]",
      "text/plain": [
       "<Figure size 800x600 with 1 Axes>"
      ]
     },
     "metadata": {},
     "output_type": "display_data"
    }
   ],
   "source": [
    "# Train the model on the entire dataset\n",
    "model.fit(X, y)\n",
    "\n",
    "# Predict on the same dataset\n",
    "y_pred = model.predict(X)\n",
    "\n",
    "# Evaluate performance\n",
    "mse = mean_squared_error(y, y_pred)\n",
    "rmse = np.sqrt(mse)\n",
    "print(f\"Final R2 on full data: {r2_score(y, y_pred):.4f}\")\n",
    "print(f\"RMSE on full data: {rmse:.4f}\")\n",
    "\n",
    "# Plot Actual vs Predicted\n",
    "plt.figure(figsize=(8,6))\n",
    "plt.scatter(y, y_pred, alpha=0.5)\n",
    "plt.plot([y.min(), y.max()], [y.min(), y.max()], 'r--')\n",
    "plt.xlabel('Actual depth_to_groundwater_m')\n",
    "plt.ylabel('Predicted depth_to_groundwater_m')\n",
    "plt.title('Actual vs Predicted')\n",
    "plt.grid(True)\n",
    "plt.show()"
   ]
  }
 ],
 "metadata": {
  "kernelspec": {
   "display_name": "Python 3",
   "language": "python",
   "name": "python3"
  },
  "language_info": {
   "codemirror_mode": {
    "name": "ipython",
    "version": 3
   },
   "file_extension": ".py",
   "mimetype": "text/x-python",
   "name": "python",
   "nbconvert_exporter": "python",
   "pygments_lexer": "ipython3",
   "version": "3.10.7"
  }
 },
 "nbformat": 4,
 "nbformat_minor": 5
}
